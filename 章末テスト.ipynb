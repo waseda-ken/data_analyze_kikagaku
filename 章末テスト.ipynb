{
  "nbformat": 4,
  "nbformat_minor": 0,
  "metadata": {
    "colab": {
      "provenance": [],
      "authorship_tag": "ABX9TyPrIYQcbLFHP6+Zzneocp+A",
      "include_colab_link": true
    },
    "kernelspec": {
      "name": "python3",
      "display_name": "Python 3"
    },
    "language_info": {
      "name": "python"
    }
  },
  "cells": [
    {
      "cell_type": "markdown",
      "metadata": {
        "id": "view-in-github",
        "colab_type": "text"
      },
      "source": [
        "<a href=\"https://colab.research.google.com/github/waseda-ken/data_analyze_kikagaku/blob/main/%E7%AB%A0%E6%9C%AB%E3%83%86%E3%82%B9%E3%83%88.ipynb\" target=\"_parent\"><img src=\"https://colab.research.google.com/assets/colab-badge.svg\" alt=\"Open In Colab\"/></a>"
      ]
    },
    {
      "cell_type": "code",
      "execution_count": null,
      "metadata": {
        "colab": {
          "base_uri": "https://localhost:8080/"
        },
        "id": "Ag9BEv0K7SNn",
        "outputId": "616af7c5-6674-48f3-a22d-de57d4fc2ac6"
      },
      "outputs": [
        {
          "output_type": "stream",
          "name": "stdout",
          "text": [
            "5-fold CV Accuracy: 0.9749\n"
          ]
        }
      ],
      "source": [
        "import pandas as pd\n",
        "from sklearn.preprocessing import StandardScaler\n",
        "from sklearn.svm import SVC\n",
        "from sklearn.model_selection import cross_val_score\n",
        "\n",
        "# データ読み込み\n",
        "train = pd.read_csv('cancer_train.csv')\n",
        "test = pd.read_csv('cancer_test.csv')\n",
        "\n",
        "# 診断結果を数値に変換 ('M'→1, 'B'→0)\n",
        "train['diagnosis'] = train['diagnosis'].map({'M': 1, 'B': 0})\n",
        "\n",
        "# 特徴量とラベルに分割\n",
        "X = train.drop('diagnosis', axis=1)\n",
        "y = train['diagnosis']\n",
        "\n",
        "# 標準化\n",
        "scaler = StandardScaler()\n",
        "X_scaled = scaler.fit_transform(X)\n",
        "\n",
        "# SVMモデルの初期化\n",
        "model = SVC()\n",
        "\n",
        "# 5分割クロスバリデーションでAccuracyを確認\n",
        "scores = cross_val_score(model, X_scaled, y, cv=5, scoring='accuracy')\n",
        "print(f'5-fold CV Accuracy: {scores.mean():.4f}')\n",
        "\n",
        "# 全トレーニングデータで学習\n",
        "model.fit(X_scaled, y)\n",
        "\n",
        "# テストデータ予測\n",
        "X_test_scaled = scaler.transform(test)\n",
        "y_pred = model.predict(X_test_scaled)\n",
        "\n",
        "# 提出用ファイル作成\n",
        "pd.Series(y_pred, name='pred').to_csv('submission.csv', index=False)\n"
      ]
    },
    {
      "cell_type": "code",
      "source": [],
      "metadata": {
        "id": "QKKwIdQA7aoq"
      },
      "execution_count": null,
      "outputs": []
    }
  ]
}